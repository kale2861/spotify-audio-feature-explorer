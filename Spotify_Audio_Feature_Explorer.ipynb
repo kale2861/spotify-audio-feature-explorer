{
  "nbformat": 4,
  "nbformat_minor": 0,
  "metadata": {
    "colab": {
      "provenance": []
    },
    "kernelspec": {
      "name": "python3",
      "display_name": "Python 3"
    },
    "language_info": {
      "name": "python"
    }
  },
  "cells": [
    {
      "cell_type": "code",
      "execution_count": 8,
      "metadata": {
        "colab": {
          "base_uri": "https://localhost:8080/"
        },
        "id": "GvKV8Frl98zV",
        "outputId": "54a35045-b313-44c4-db4e-432d4ee73dc7"
      },
      "outputs": [
        {
          "output_type": "stream",
          "name": "stdout",
          "text": [
            "Requirement already satisfied: spotipy in /usr/local/lib/python3.11/dist-packages (2.25.1)\n",
            "Requirement already satisfied: redis>=3.5.3 in /usr/local/lib/python3.11/dist-packages (from spotipy) (6.0.0)\n",
            "Requirement already satisfied: requests>=2.25.0 in /usr/local/lib/python3.11/dist-packages (from spotipy) (2.32.3)\n",
            "Requirement already satisfied: urllib3>=1.26.0 in /usr/local/lib/python3.11/dist-packages (from spotipy) (2.4.0)\n",
            "Requirement already satisfied: charset-normalizer<4,>=2 in /usr/local/lib/python3.11/dist-packages (from requests>=2.25.0->spotipy) (3.4.2)\n",
            "Requirement already satisfied: idna<4,>=2.5 in /usr/local/lib/python3.11/dist-packages (from requests>=2.25.0->spotipy) (3.10)\n",
            "Requirement already satisfied: certifi>=2017.4.17 in /usr/local/lib/python3.11/dist-packages (from requests>=2.25.0->spotipy) (2025.4.26)\n"
          ]
        }
      ],
      "source": [
        "!pip install spotipy"
      ]
    },
    {
      "cell_type": "code",
      "source": [
        "import spotipy\n",
        "from spotipy.oauth2 import SpotifyOAuth\n",
        "import requests\n",
        "from urllib.parse import urlencode\n",
        "import pandas as pd\n",
        "import matplotlib.pyplot as plt\n",
        "import seaborn as sns"
      ],
      "metadata": {
        "id": "yZVIiCAd-DBg"
      },
      "execution_count": 9,
      "outputs": []
    },
    {
      "cell_type": "code",
      "source": [
        "client_id = ",
        "client_secret = ",
        "redirect_uri = 'https://example.com/callback'\n",
        "scope = 'user-top-read'"
      ],
      "metadata": {
        "id": "lg1lQ5ao-Ih7"
      },
      "execution_count": 20,
      "outputs": []
    },
    {
      "cell_type": "code",
      "source": [
        "auth_query = {\n",
        "    'response_type': 'code',\n",
        "    'client_id': client_id,\n",
        "    'redirect_uri': redirect_uri,\n",
        "    'scope': scope\n",
        "}\n",
        "auth_url = f\"https://accounts.spotify.com/authorize?{urlencode(auth_query)}\"\n",
        "print(\"🔗 Go to this URL and authorize the app:\\n\", auth_url)"
      ],
      "metadata": {
        "colab": {
          "base_uri": "https://localhost:8080/"
        },
        "id": "sf9VrKhc-Z92",
        "outputId": "e011d4a6-c7b1-4eca-f91e-79b11842884c"
      },
      "execution_count": 21,
      "outputs": [
        {
          "output_type": "stream",
          "name": "stdout",
          "text": [
            "🔗 Go to this URL and authorize the app:\n",
            " https://accounts.spotify.com/authorize?response_type=code&client_id=35ba33c2d7bd4e6197f58a98f6ac28cd&redirect_uri=https%3A%2F%2Fexample.com%2Fcallback&scope=user-top-read\n"
          ]
        }
      ]
    },
    {
      "cell_type": "code",
      "source": [
        "# STEP 3 — Exchange auth code for access token\n",
        "auth_code = input(\"Paste the code from the URL: \")\n",
        "\n",
        "token_url = 'https://accounts.spotify.com/api/token'\n",
        "payload = {\n",
        "    'grant_type': 'authorization_code',\n",
        "    'code': auth_code,\n",
        "    'redirect_uri': redirect_uri,\n",
        "    'client_id': client_id,\n",
        "    'client_secret': client_secret\n",
        "}\n",
        "\n",
        "response = requests.post(token_url, data=payload)\n",
        "access_token = response.json().get('access_token')\n",
        "print(\"✅ Access token received:\", access_token[:30], \"...\")"
      ],
      "metadata": {
        "colab": {
          "base_uri": "https://localhost:8080/"
        },
        "id": "mt4VMa_V-wBl",
        "outputId": "9a7fc78d-b7ab-4423-f6a3-4a1daaa9c4dc"
      },
      "execution_count": 22,
      "outputs": [
        {
          "output_type": "stream",
          "name": "stdout",
          "text": [
            "Paste the code from the URL: ",
            "✅ Access token received: "
          ]
        }
      ]
    },
    {
      "cell_type": "code",
      "source": [
        "sp = spotipy.Spotify(auth=access_token)\n",
        "\n",
        "# Test if token works\n",
        "print(\"👤 User info:\\n\", sp.current_user())"
      ],
      "metadata": {
        "colab": {
          "base_uri": "https://localhost:8080/"
        },
        "id": "vySX2tB7-057",
        "outputId": "3fec9081-24d6-4fab-e733-99ce97997296"
      },
      "execution_count": 23,
      "outputs": [
        {
          "output_type": "stream",
          "name": "stdout",
          "text": [
            "👤 User info:\n",
            " {'display_name': 'SennyBenz', 'external_urls': {'spotify': 'https://open.spotify.com/user/31jm7af4n42ijzbtxxz5y7ybt6li'}, 'followers': {'href': None, 'total': 2}, 'href': 'https://api.spotify.com/v1/users/31jm7af4n42ijzbtxxz5y7ybt6li', 'id': '31jm7af4n42ijzbtxxz5y7ybt6li', 'images': [], 'type': 'user', 'uri': 'spotify:user:31jm7af4n42ijzbtxxz5y7ybt6li'}\n"
          ]
        }
      ]
    },
    {
      "cell_type": "code",
      "source": [
        "# STEP 5 — Fetch Top Tracks and Get Audio Features\n",
        "results = sp.current_user_top_tracks(limit=5)\n",
        "track_ids = [track['id'] for track in results['items']]\n",
        "track_names = [track['name'] for track in results['items']]\n",
        "\n",
        "def get_audio_features(ids):\n",
        "    try:\n",
        "        # Check if ids is empty\n",
        "        if not ids:\n",
        "            print(\"ℹ️ No track IDs provided to fetch audio features.\")\n",
        "            return []\n",
        "        # Fetch audio features for the given track IDs\n",
        "        features = sp.audio_features(ids)\n",
        "        if not features:\n",
        "            print(\"⚠️ Spotify API returned no audio features for the provided track IDs.\")\n",
        "            return []\n",
        "        return features\n",
        "    except Exception as e:\n",
        "        # Print a more informative error message and re-raise the exception\n",
        "        print(f\"❌ Error fetching features: {type(e).__name__} - {e}\")\n",
        "        return [] # Return empty list on error\n",
        "\n",
        "features = get_audio_features(track_ids)\n",
        "\n",
        "# Check if features list is empty before creating DataFrame\n",
        "if not features:\n",
        "    print(\"🛑 Cannot create DataFrame as no audio features were fetched.\")\n",
        "else:\n",
        "    # Combine with names for clarity\n",
        "    df = pd.DataFrame(features)\n",
        "    # Ensure 'track_name' column is added only if DataFrame is not empty\n",
        "    df['track_name'] = track_names\n",
        "\n",
        "    print(\"\\n🎧 Top Track Audio Features:\")\n",
        "    # Check if the required columns exist before attempting to display\n",
        "    required_cols = ['track_name', 'danceability', 'energy', 'valence', 'tempo']\n",
        "    if all(col in df.columns for col in required_cols):\n",
        "        display(df[required_cols])\n",
        "    else:\n",
        "        print(f\"⚠️ DataFrame does not contain all required columns. Available columns: {df.columns.tolist()}\")"
      ],
      "metadata": {
        "colab": {
          "base_uri": "https://localhost:8080/"
        },
        "id": "nwza6QOnAexZ",
        "outputId": "a49e63c0-56da-438e-88e6-6720ea6819b7"
      },
      "execution_count": 25,
      "outputs": [
        {
          "output_type": "stream",
          "name": "stderr",
          "text": [
            "ERROR:spotipy.client:HTTP Error for GET to https://api.spotify.com/v1/audio-features/?ids=014MozofjiDsnzyiOVnfsK,2xA7S4x2DXV3AZeeGLiasy,3sbjKDEYkBs4q9oLYV0Q88,0nj9Bq5sHDiTxSHunhgkFb,0OimeRm0wZjmRuoo7EVVjk with Params: {} returned 403 due to None\n"
          ]
        },
        {
          "output_type": "stream",
          "name": "stdout",
          "text": [
            "❌ Error fetching features: SpotifyException - http status: 403, code: -1 - https://api.spotify.com/v1/audio-features/?ids=014MozofjiDsnzyiOVnfsK,2xA7S4x2DXV3AZeeGLiasy,3sbjKDEYkBs4q9oLYV0Q88,0nj9Bq5sHDiTxSHunhgkFb,0OimeRm0wZjmRuoo7EVVjk:\n",
            " None, reason: None\n",
            "🛑 Cannot create DataFrame as no audio features were fetched.\n"
          ]
        }
      ]
    }
  ]
}
