{
  "nbformat": 4,
  "nbformat_minor": 0,
  "metadata": {
    "colab": {
      "provenance": []
    },
    "kernelspec": {
      "name": "python3",
      "display_name": "Python 3"
    },
    "language_info": {
      "name": "python"
    }
  },
  "cells": [
    {
      "cell_type": "code",
      "execution_count": null,
      "metadata": {
        "colab": {
          "base_uri": "https://localhost:8080/"
        },
        "id": "GvKV8Frl98zV",
        "outputId": "54a35045-b313-44c4-db4e-432d4ee73dc7"
      },
      "outputs": [
        {
          "output_type": "stream",
          "name": "stdout",
          "text": [
            "Requirement already satisfied: spotipy in /usr/local/lib/python3.11/dist-packages (2.25.1)\n",
            "Requirement already satisfied: redis>=3.5.3 in /usr/local/lib/python3.11/dist-packages (from spotipy) (6.0.0)\n",
            "Requirement already satisfied: requests>=2.25.0 in /usr/local/lib/python3.11/dist-packages (from spotipy) (2.32.3)\n",
            "Requirement already satisfied: urllib3>=1.26.0 in /usr/local/lib/python3.11/dist-packages (from spotipy) (2.4.0)\n",
            "Requirement already satisfied: charset-normalizer<4,>=2 in /usr/local/lib/python3.11/dist-packages (from requests>=2.25.0->spotipy) (3.4.2)\n",
            "Requirement already satisfied: idna<4,>=2.5 in /usr/local/lib/python3.11/dist-packages (from requests>=2.25.0->spotipy) (3.10)\n",
            "Requirement already satisfied: certifi>=2017.4.17 in /usr/local/lib/python3.11/dist-packages (from requests>=2.25.0->spotipy) (2025.4.26)\n"
          ]
        }
      ],
      "source": [
        "!pip install spotipy"
      ]
    },
    {
      "cell_type": "code",
      "source": [
        "import spotipy\n",
        "from spotipy.oauth2 import SpotifyOAuth\n",
        "import requests\n",
        "from urllib.parse import urlencode\n",
        "import pandas as pd\n",
        "import matplotlib.pyplot as plt\n",
        "import seaborn as sns"
      ],
      "metadata": {
        "id": "yZVIiCAd-DBg"
      },
      "execution_count": null,
      "outputs": []
    },
    {
      "cell_type": "code",
      "source": [
        "client_id = '35ba33c2d7bd4e6197f58a98f6ac28cd'\n",
        "client_secret = 'fd13b918dd374c14bbd2b9d0a43e1ff9'\n",
        "redirect_uri = 'https://example.com/callback'\n",
        "scope = 'user-top-read'"
      ],
      "metadata": {
        "id": "lg1lQ5ao-Ih7"
      },
      "execution_count": null,
      "outputs": []
    },
    {
      "cell_type": "code",
      "source": [
        "auth_query = {\n",
        "    'response_type': 'code',\n",
        "    'client_id': client_id,\n",
        "    'redirect_uri': redirect_uri,\n",
        "    'scope': scope\n",
        "}\n",
        "auth_url = f\"https://accounts.spotify.com/authorize?{urlencode(auth_query)}\"\n",
        "print(\"🔗 Go to this URL and authorize the app:\\n\", auth_url)"
      ],
      "metadata": {
        "id": "sf9VrKhc-Z92"
      },
      "execution_count": null,
      "outputs": []
    },
    {
      "cell_type": "code",
      "source": [
        "# STEP 3 — Exchange auth code for access token\n",
        "auth_code = input(\"Paste the code from the URL: \")\n",
        "\n",
        "token_url = 'https://accounts.spotify.com/api/token'\n",
        "payload = {\n",
        "    'grant_type': 'authorization_code',\n",
        "    'code': auth_code,\n",
        "    'redirect_uri': redirect_uri,\n",
        "    'client_id': client_id,\n",
        "    'client_secret': client_secret\n",
        "}\n",
        "\n",
        "response = requests.post(token_url, data=payload)\n",
        "access_token = response.json().get('access_token')\n",
        "print(\"✅ Access token received:\", access_token[:30], \"...\")"
      ],
      "metadata": {
        "id": "mt4VMa_V-wBl"
      },
      "execution_count": null,
      "outputs": []
    },
    {
      "cell_type": "code",
      "source": [
        "sp = spotipy.Spotify(auth=access_token)\n",
        "\n",
        "# Test if token works\n",
        "print(\"👤 User info:\\n\", sp.current_user())"
      ],
      "metadata": {
        "id": "vySX2tB7-057"
      },
      "execution_count": null,
      "outputs": []
    },
    {
      "cell_type": "code",
      "source": [
        "# STEP 5 — Fetch Top Tracks and Get Audio Features\n",
        "results = sp.current_user_top_tracks(limit=5)\n",
        "track_ids = [track['id'] for track in results['items']]\n",
        "track_names = [track['name'] for track in results['items']]\n",
        "\n",
        "def get_audio_features(ids):\n",
        "    try:\n",
        "        # Check if ids is empty\n",
        "        if not ids:\n",
        "            print(\"ℹ️ No track IDs provided to fetch audio features.\")\n",
        "            return []\n",
        "        # Fetch audio features for the given track IDs\n",
        "        features = sp.audio_features(ids)\n",
        "        if not features:\n",
        "            print(\"⚠️ Spotify API returned no audio features for the provided track IDs.\")\n",
        "            return []\n",
        "        return features\n",
        "    except Exception as e:\n",
        "        # Print a more informative error message and re-raise the exception\n",
        "        print(f\"❌ Error fetching features: {type(e).__name__} - {e}\")\n",
        "        return [] # Return empty list on error\n",
        "\n",
        "features = get_audio_features(track_ids)\n",
        "\n",
        "# Check if features list is empty before creating DataFrame\n",
        "if not features:\n",
        "    print(\"🛑 Cannot create DataFrame as no audio features were fetched.\")\n",
        "else:\n",
        "    # Combine with names for clarity\n",
        "    df = pd.DataFrame(features)\n",
        "    # Ensure 'track_name' column is added only if DataFrame is not empty\n",
        "    df['track_name'] = track_names\n",
        "\n",
        "    print(\"\\n🎧 Top Track Audio Features:\")\n",
        "    # Check if the required columns exist before attempting to display\n",
        "    required_cols = ['track_name', 'danceability', 'energy', 'valence', 'tempo']\n",
        "    if all(col in df.columns for col in required_cols):\n",
        "        display(df[required_cols])\n",
        "    else:\n",
        "        print(f\"⚠️ DataFrame does not contain all required columns. Available columns: {df.columns.tolist()}\")"
      ],
      "metadata": {
        "colab": {
          "base_uri": "https://localhost:8080/"
        },
        "id": "nwza6QOnAexZ",
        "outputId": "a49e63c0-56da-438e-88e6-6720ea6819b7"
      },
      "execution_count": null,
      "outputs": [
        {
          "output_type": "stream",
          "name": "stderr",
          "text": [
            "ERROR:spotipy.client:HTTP Error for GET to https://api.spotify.com/v1/audio-features/?ids=014MozofjiDsnzyiOVnfsK,2xA7S4x2DXV3AZeeGLiasy,3sbjKDEYkBs4q9oLYV0Q88,0nj9Bq5sHDiTxSHunhgkFb,0OimeRm0wZjmRuoo7EVVjk with Params: {} returned 403 due to None\n"
          ]
        },
        {
          "output_type": "stream",
          "name": "stdout",
          "text": [
            "❌ Error fetching features: SpotifyException - http status: 403, code: -1 - https://api.spotify.com/v1/audio-features/?ids=014MozofjiDsnzyiOVnfsK,2xA7S4x2DXV3AZeeGLiasy,3sbjKDEYkBs4q9oLYV0Q88,0nj9Bq5sHDiTxSHunhgkFb,0OimeRm0wZjmRuoo7EVVjk:\n",
            " None, reason: None\n",
            "🛑 Cannot create DataFrame as no audio features were fetched.\n"
          ]
        }
      ]
    }
  ]
}